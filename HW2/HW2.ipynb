{
 "cells": [
  {
   "cell_type": "code",
   "execution_count": 1,
   "metadata": {},
   "outputs": [],
   "source": [
    "import numpy as np\n",
    "from statistics import mode"
   ]
  },
  {
   "cell_type": "code",
   "execution_count": 6,
   "metadata": {},
   "outputs": [
    {
     "name": "stdout",
     "output_type": "stream",
     "text": [
      "working 0 hours per day gives expected net income = 0.0\n",
      "working 1 hours per day gives expected net income = 5.28948\n",
      "working 2 hours per day gives expected net income = 7.21548\n",
      "working 3 hours per day gives expected net income = 7.58832\n",
      "working 4 hours per day gives expected net income = 7.32012\n",
      "working 5 hours per day gives expected net income = 6.52416\n",
      "working 6 hours per day gives expected net income = 5.39772\n",
      "working 7 hours per day gives expected net income = 3.89916\n",
      "working 8 hours per day gives expected net income = 2.25108\n",
      "working 9 hours per day gives expected net income = 0.66216\n",
      "working 10 hours per day gives expected net income = -1.22124\n",
      "The optimal working hour that maximize expected net income is 3\n"
     ]
    }
   ],
   "source": [
    "c = 3\n",
    "p = 12\n",
    "t = list(range(0,11))\n",
    "optimal_hour_list = []\n",
    "for i in t:\n",
    "    profit_list = []\n",
    "    for j in range(100000):\n",
    "        D = np.random.poisson(float(np.log(1+t[i])))   \n",
    "        profit = D*p - c*t[i]\n",
    "        profit_list.append(profit)\n",
    "    expected_value = np.mean(profit_list)\n",
    "    optimal_hour_list.append(expected_value)\n",
    "    print('working ' + str(i) + ' hours per day gives expected net income = ' + str(expected_value))\n",
    "\n",
    "print('The optimal working hour that maximize expected net income is ' + str(optimal_hour_list.index(max(optimal_hour_list))))"
   ]
  },
  {
   "cell_type": "code",
   "execution_count": null,
   "metadata": {},
   "outputs": [],
   "source": []
  }
 ],
 "metadata": {
  "kernelspec": {
   "display_name": "Python 3",
   "language": "python",
   "name": "python3"
  },
  "language_info": {
   "codemirror_mode": {
    "name": "ipython",
    "version": 3
   },
   "file_extension": ".py",
   "mimetype": "text/x-python",
   "name": "python",
   "nbconvert_exporter": "python",
   "pygments_lexer": "ipython3",
   "version": "3.7.4"
  }
 },
 "nbformat": 4,
 "nbformat_minor": 2
}

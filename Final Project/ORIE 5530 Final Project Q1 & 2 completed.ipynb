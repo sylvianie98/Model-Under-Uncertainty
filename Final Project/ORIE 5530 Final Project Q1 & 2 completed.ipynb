{
 "cells": [
  {
   "cell_type": "markdown",
   "metadata": {},
   "source": [
    "# Part 1: Markov chain modeling\n",
    "## (1) Write down a (discrete time) Markov chain model for 𝑋_t."
   ]
  },
  {
   "cell_type": "code",
   "execution_count": 81,
   "metadata": {},
   "outputs": [],
   "source": [
    "import numpy as np\n",
    "import math\n",
    "import matplotlib.pyplot as plt\n",
    "import matplotlib.pyplot as plt"
   ]
  },
  {
   "cell_type": "code",
   "execution_count": 82,
   "metadata": {},
   "outputs": [],
   "source": [
    "def demand(k,lam):\n",
    "    return ((np.e**(-lam))*lam**k)/math.factorial(k)"
   ]
  },
  {
   "cell_type": "code",
   "execution_count": 3,
   "metadata": {},
   "outputs": [
    {
     "data": {
      "text/plain": [
       "Text(0, 0.5, 'Probability D(t)=k')"
      ]
     },
     "execution_count": 3,
     "metadata": {},
     "output_type": "execute_result"
    },
    {
     "data": {
      "image/png": "[encoded data removed]",
      "text/plain": [
       "<Figure size 432x288 with 1 Axes>"
      ]
     },
     "metadata": {
      "needs_background": "light"
     },
     "output_type": "display_data"
    }
   ],
   "source": [
    "#Construct Transition Probability Matrix P\n",
    "s = 81 #number of states\n",
    "lam=10\n",
    "P = np.ones((s, s))\n",
    "for i in range(-30,51):\n",
    "    for j in range(-30,51):\n",
    "        if ((50+i-j)<0) or (j>50):\n",
    "            P[i+30,j+30] = 0\n",
    "        elif i >= 0:\n",
    "            P[i+30,j+30] = demand(50-j,lam)\n",
    "        else:\n",
    "             P[i+30,j+30] = demand(50+i-j,lam)\n",
    "\n",
    "val = []\n",
    "for i in range(25):\n",
    "    val.append(demand(i,lam))\n",
    "plt.plot(range(25), val)\n",
    "plt.title('Demand Distribution')\n",
    "plt.xlabel('k')\n",
    "plt.ylabel('Probability D(t)=k')"
   ]
  },
  {
   "cell_type": "code",
   "execution_count": 4,
   "metadata": {},
   "outputs": [],
   "source": [
    "solver = pywraplp.Solver('DTMC', pywraplp.Solver.GLOP_LINEAR_PROGRAMMING)\n",
    "objective = solver.Objective()\n",
    "\n",
    "#decision variables\n",
    "\n",
    "#pi[i] = pi_(i-30) ex:pi[80] = pi_50\n",
    "pi = {}\n",
    "for i in range(s):\n",
    "     pi[i] = solver.NumVar(0, 1, 'pi_%d' %(i-30))\n",
    "        \n",
    "#Constraints for stationary distribution\n",
    "\n",
    "#sum of pi's = 1\n",
    "solver.Add(solver.Sum([pi[i] for i in range(s)])==1)\n",
    "\n",
    "#pi*P = pi\n",
    "for j in range(s):\n",
    "    solver.Add(solver.Sum([pi[i]*P[i,j] for i in range(s)]) - pi[j] == 0)\n",
    "\n",
    "objective.SetMinimization()\n",
    "for i in range(0,30):\n",
    "    if i <30:\n",
    "        objective.SetCoefficient(pi[i], 1)\n",
    "    else:\n",
    "        objective.SetCoefficient(pi[i], 0)\n",
    "\n",
    "\n",
    "#Print Output\n",
    "status = solver.Solve()\n",
    "if status == pywraplp.Solver.OPTIMAL or status == pywraplp.Solver.FEASIBLE:\n",
    "    for i in range(s):\n",
    "        print('pi %d: ' %(i-30), pi[i].solution_value())"
   ]
  },
  {
   "cell_type": "code",
   "execution_count": 5,
   "metadata": {},
   "outputs": [
    {
     "data": {
      "text/plain": [
       "array([-2.21714765e-42, -2.55969537e-41, -4.68727173e-41, -6.57071114e-41,\n",
       "       -1.88316335e-40,  1.25812755e-40,  1.15091899e-38,  9.71792565e-38,\n",
       "        7.76550458e-37,  5.22983419e-36,  3.68486258e-35,  2.69667876e-34,\n",
       "        1.82077419e-33,  1.24466657e-32,  8.34623321e-32,  5.49978683e-31,\n",
       "        3.57808230e-30,  2.29001900e-29,  1.44246888e-28,  8.94438592e-28,\n",
       "        5.45596195e-27,  3.27364589e-26,  1.93143447e-25,  1.12024168e-24,\n",
       "        6.38538386e-24,  3.57580585e-23,  1.96669458e-22,  1.06201591e-21,\n",
       "        5.62868245e-21,  2.92691515e-20,  1.49272674e-19,  7.46363365e-19,\n",
       "        3.65718049e-18,  1.75544663e-17,  8.25059916e-17,  3.79527561e-16,\n",
       "        1.70787403e-15,  7.51464571e-15,  3.23129766e-14,  1.35714502e-13,\n",
       "        5.56429457e-13,  2.22571783e-12,  8.68029952e-12,  3.29851382e-11,\n",
       "        1.22045011e-10,  4.39362041e-10,  1.53776714e-09,  5.22840828e-09,\n",
       "        1.72537473e-08,  5.52119915e-08,  1.71157174e-07,  5.13471521e-07,\n",
       "        1.48906741e-06,  4.16938875e-06,  1.12573496e-05,  2.92691090e-05,\n",
       "        7.31727725e-05,  1.75614654e-04,  4.03913704e-04,  8.88610150e-04,\n",
       "        1.86608131e-03,  3.73216263e-03,  7.09110899e-03,  1.27639962e-02,\n",
       "        2.16987935e-02,  3.47180696e-02,  5.20771044e-02,  7.29079462e-02,\n",
       "        9.47803301e-02,  1.13736396e-01,  1.25110036e-01,  1.25110036e-01,\n",
       "        1.12599032e-01,  9.00792257e-02,  6.30554580e-02,  3.78332748e-02,\n",
       "        1.89166374e-02,  7.56665496e-03,  2.26999649e-03,  4.53999298e-04,\n",
       "        4.53999298e-05])"
      ]
     },
     "execution_count": 5,
     "metadata": {},
     "output_type": "execute_result"
    }
   ],
   "source": [
    "#solve using Linalg\n",
    "import scipy.linalg as la\n",
    "lam, vec = la.eig(P, left=True, right=False)\n",
    "idx = np.argmin(np.abs(lam - 1))\n",
    "w = np.real(vec[:, idx])\n",
    "pi = (w/w.sum())\n",
    "pi"
   ]
  },
  {
   "cell_type": "markdown",
   "metadata": {},
   "source": [
    "## 2) Use stationary distribution to get a) and b)\n",
    "## 2) a. Long-run average number \n",
    "The long‐run average number of units in inventory = 40"
   ]
  },
  {
   "cell_type": "code",
   "execution_count": 6,
   "metadata": {},
   "outputs": [
    {
     "data": {
      "text/plain": [
       "40.0"
      ]
     },
     "execution_count": 6,
     "metadata": {},
     "output_type": "execute_result"
    }
   ],
   "source": [
    "#1. long run avg # units in inventory:\n",
    "X = [] #integers of states\n",
    "for i in range(-30,51):\n",
    "    X.append(i)\n",
    "X = np.asarray(X)\n",
    "long_run = np.dot(X,pi)\n",
    "long_run"
   ]
  },
  {
   "cell_type": "markdown",
   "metadata": {},
   "source": [
    "## 2) b. Service Level\n",
    "The fraction of days where some customers are backlogged = 3.620001542109901e-20"
   ]
  },
  {
   "cell_type": "code",
   "execution_count": 7,
   "metadata": {},
   "outputs": [
    {
     "data": {
      "text/plain": [
       "3.620001542109901e-20"
      ]
     },
     "execution_count": 7,
     "metadata": {},
     "output_type": "execute_result"
    }
   ],
   "source": [
    "#2. Fraction of days with unsatisfied demand:\n",
    "level = 0\n",
    "for i in range(0,30):\n",
    "    level += pi[i]\n",
    "level"
   ]
  },
  {
   "cell_type": "markdown",
   "metadata": {},
   "source": [
    "## Part 2: Optimization via Dynamic Programming\n",
    "### (1) Bellman equation:\n",
    "V(s) = max_a ( Reward + gamma * Σ P(s|a,s') * V(s'))   \n",
    "\n",
    "Reward = cost, we defined a cost(x, A) function below, while x = states, A = order numbers.   \n",
    "\n",
    "gamma = 0.9    \n",
    "\n",
    "P(s|a,s') = transition probability matrix for state s given previous stater and order number, we create transition probability matrix = P below for each state action pair. \n",
    "\n",
    "V(s') = value for last state   \n",
    "\n",
    "Thus, the bellman equation is max_a ( cost(x,A) + 0.9 * dot(P, V(s') )"
   ]
  },
  {
   "cell_type": "markdown",
   "metadata": {},
   "source": [
    "## (2) Value iteration"
   ]
  },
  {
   "cell_type": "code",
   "execution_count": 8,
   "metadata": {},
   "outputs": [],
   "source": [
    "def bellman(lam,c,h,b):\n",
    "#--------------------------  \n",
    "    def cost(x,A):\n",
    "        if x >= 0:\n",
    "            val = c*A + h*x\n",
    "        else:\n",
    "            val = c*A - b*x\n",
    "        return -val\n",
    "#--------------------------        \n",
    "    #Initialize\n",
    "    update = 1\n",
    "    i=0\n",
    "    eps = 0.05\n",
    "    v_list = [np.zeros(131)]\n",
    "    policy_list = []\n",
    "    while update == 1:\n",
    "        i+= 1\n",
    "        pi = np.zeros(131)\n",
    "        V = np.zeros(131)\n",
    "        \n",
    "        for s in range(-30,101): \n",
    "            max_v = - float('inf')\n",
    "            for n in range (101 - s):\n",
    "                new_state = s + n \n",
    "                \n",
    "                #--------------------------                 \n",
    "                #transition probabability matrix\n",
    "                P = np.zeros(131)\n",
    "                for i in range(-30,101):\n",
    "                    if i > new_state:\n",
    "                        P[i + 30] = 0\n",
    "                    elif i < new_state and i > - 30: \n",
    "                        P[i + 30] = demand(new_state - i ,lam)\n",
    "                P[0] = 1 - np.sum(P)\n",
    "                #-------------------------- \n",
    "                \n",
    "                sum_y = np.dot(P,v_list[-1])    \n",
    "                v = (cost(s,n) + 0.9 * sum_y)\n",
    "#                 print(cost(s,n))\n",
    "#                 print(sum_y)\n",
    "                if v - max_v > 0 :\n",
    "                    max_v = v\n",
    "                    pi[s + 30] = n\n",
    "            V[s + 30] = max_v\n",
    "        v_list.append(V)\n",
    "        policy_list.append(pi)\n",
    "\n",
    "        \n",
    "#       Stopping Condition\n",
    "        update = 0\n",
    "        for i in range(131):\n",
    "            if abs(v_list[-1][i]-v_list[-2][i]) > eps:\n",
    "                update = 1\n",
    "    \n",
    "    best_v = v_list [-1]\n",
    "    best_policy = policy_list[-1]\n",
    "\n",
    "\n",
    "    return best_v, best_policy\n",
    "              "
   ]
  },
  {
   "cell_type": "markdown",
   "metadata": {},
   "source": [
    "## (3) Fix c=1 and 𝜆 = 15. Choose 5 different combinations of parameters b,h (large h and small b, small h and large b and so on) and for each: \n",
    "## a. report the optimal value starting at time 0 with x=20 units in inventory  \n",
    "\n",
    "## b. What is the optimal strategy, i.e., what is the optimal order quantity or order up to level for each state.  \n",
    "\n",
    "The total 5 trategies are shown below, we used   \n",
    "(1) h = 20 | b = 2 (large h, small b);    \n",
    "(2) h = 2 | b = 20 (large b, small h);      \n",
    "(3) h = 20 | b = 25 (large h, large b);         \n",
    "(4) h = 5 | b = 2 (small h, small b);         \n",
    "(5) h = 7 | b = 10 (moderate h, moderate b); \n",
    "\n",
    "The optimal value is achieved by combination 2) h = 2 | b = 20, and optimal value starting at time 0 with x=20 units in inventory = -293.7355384791253, the optimal strategy is shown below:   \n",
    "\n",
    "[50. 49. 48. 47. 46. 45. 44. 43. 42. 41. 40. 39. 38. 37. 36. 35. 34. 33. 32. 31. 30. 29. 28. 27. 26. 25. 24. 23. 22. 21. 20. 19. 18. 17. 16. 15. 14. 13. 12. 11. 10.  9.  8.  7.  6.  5.  4.  3.  2.  1.  0.  0.  0.  0. 0.  0.  0.  0.  0.  0.  0.  0.  0.  0.  0.  0.  0.  0.  0.  0.  0.  0. 0.  0.  0.  0.  0.  0.  0.  0.  0.  0.  0.  0.  0.  0.  0.  0.  0.  0. 0.  0.  0.  0.  0.  0.  0.  0.  0.  0.  0.  0.  0.  0.  0.  0.  0.  0. 0.  0.  0.  0.  0.  0.  0.  0.  0.  0.  0.  0.  0.  0.  0.  0.  0.  0. 0.  0.  0.  0.  0.]"
   ]
  },
  {
   "cell_type": "code",
   "execution_count": 10,
   "metadata": {
    "scrolled": false
   },
   "outputs": [
    {
     "name": "stdout",
     "output_type": "stream",
     "text": [
      "(1) h = 20, b = 2 \n",
      "\n",
      "a. Optimal value starting at time 0 with x=20 units in inventory:\n",
      "\n",
      "-725.3864993665342\n",
      "\n",
      "\n",
      "b. Optimal strategy: \n",
      "\n",
      "[40. 39. 38. 37. 36. 35. 34. 33. 32. 31. 30. 29. 28. 27. 26. 25. 24. 23.\n",
      " 22. 21. 20. 19. 18. 17. 16. 15. 14. 13. 12. 11. 10.  9.  8.  7.  6.  5.\n",
      "  4.  3.  2.  1.  0.  0.  0.  0.  0.  0.  0.  0.  0.  0.  0.  0.  0.  0.\n",
      "  0.  0.  0.  0.  0.  0.  0.  0.  0.  0.  0.  0.  0.  0.  0.  0.  0.  0.\n",
      "  0.  0.  0.  0.  0.  0.  0.  0.  0.  0.  0.  0.  0.  0.  0.  0.  0.  0.\n",
      "  0.  0.  0.  0.  0.  0.  0.  0.  0.  0.  0.  0.  0.  0.  0.  0.  0.  0.\n",
      "  0.  0.  0.  0.  0.  0.  0.  0.  0.  0.  0.  0.  0.  0.  0.  0.  0.  0.\n",
      "  0.  0.  0.  0.  0.]\n"
     ]
    }
   ],
   "source": [
    "#(1) h = 20 | b = 2\n",
    "lam = 15\n",
    "c = 1\n",
    "h = 20\n",
    "b = 2\n",
    "inventory = 20\n",
    "v, policy = bellman(lam,c,h,b)\n",
    "print(\"(1) h = 20, b = 2 \\n\")\n",
    "print(\"a. Optimal value starting at time 0 with x=20 units in inventory:\\n\")\n",
    "print(v[inventory+30])\n",
    "print(\"\\n\")\n",
    "print(\"b. Optimal strategy: \\n\")\n",
    "print(policy)\n"
   ]
  },
  {
   "cell_type": "code",
   "execution_count": 11,
   "metadata": {},
   "outputs": [],
   "source": [
    "# converge = True\n",
    "# for i in range(131):\n",
    "#     if abs(v[-1][i] - v[-2][i]) > eps:\n",
    "#         converge = False\n"
   ]
  },
  {
   "cell_type": "code",
   "execution_count": 12,
   "metadata": {},
   "outputs": [
    {
     "name": "stdout",
     "output_type": "stream",
     "text": [
      "(2) h = 2, b = 20 \n",
      "\n",
      "a. Optimal value starting at time 0 with x=20 units in inventory:\n",
      "\n",
      "-306.6260246008571\n",
      "\n",
      "\n",
      "b. Optimal strategy: \n",
      "\n",
      "[50. 49. 48. 47. 46. 45. 44. 43. 42. 41. 40. 39. 38. 37. 36. 35. 34. 33.\n",
      " 32. 31. 30. 29. 28. 27. 26. 25. 24. 23. 22. 21. 20. 19. 18. 17. 16. 15.\n",
      " 14. 13. 12. 11. 10.  9.  8.  7.  6.  5.  4.  3.  2.  1.  0.  0.  0.  0.\n",
      "  0.  0.  0.  0.  0.  0.  0.  0.  0.  0.  0.  0.  0.  0.  0.  0.  0.  0.\n",
      "  0.  0.  0.  0.  0.  0.  0.  0.  0.  0.  0.  0.  0.  0.  0.  0.  0.  0.\n",
      "  0.  0.  0.  0.  0.  0.  0.  0.  0.  0.  0.  0.  0.  0.  0.  0.  0.  0.\n",
      "  0.  0.  0.  0.  0.  0.  0.  0.  0.  0.  0.  0.  0.  0.  0.  0.  0.  0.\n",
      "  0.  0.  0.  0.  0.]\n"
     ]
    }
   ],
   "source": [
    "#(2) h = 2 | b = 20\n",
    "lam = 15\n",
    "c = 1\n",
    "h = 2\n",
    "b = 20\n",
    "inventory = 20\n",
    "v, policy = bellman(lam,c,h,b)\n",
    "print(\"(2) h = 2, b = 20 \\n\")\n",
    "print(\"a. Optimal value starting at time 0 with x=20 units in inventory:\\n\")\n",
    "print(v[inventory+30])\n",
    "print(\"\\n\")\n",
    "print(\"b. Optimal strategy: \\n\")\n",
    "print(policy)"
   ]
  },
  {
   "cell_type": "code",
   "execution_count": 13,
   "metadata": {},
   "outputs": [
    {
     "name": "stdout",
     "output_type": "stream",
     "text": [
      "h = 20 | b = 25 \n",
      "\n",
      "a. Optimal value starting at time 0 with x=20 units in inventory:\n",
      "\n",
      "-1188.7337183684804\n",
      "\n",
      "\n",
      "b. Optimal strategy: \n",
      "\n",
      "[45. 44. 43. 42. 41. 40. 39. 38. 37. 36. 35. 34. 33. 32. 31. 30. 29. 28.\n",
      " 27. 26. 25. 24. 23. 22. 21. 20. 19. 18. 17. 16. 15. 14. 13. 12. 11. 10.\n",
      "  9.  8.  7.  6.  5.  4.  3.  2.  1.  0.  0.  0.  0.  0.  0.  0.  0.  0.\n",
      "  0.  0.  0.  0.  0.  0.  0.  0.  0.  0.  0.  0.  0.  0.  0.  0.  0.  0.\n",
      "  0.  0.  0.  0.  0.  0.  0.  0.  0.  0.  0.  0.  0.  0.  0.  0.  0.  0.\n",
      "  0.  0.  0.  0.  0.  0.  0.  0.  0.  0.  0.  0.  0.  0.  0.  0.  0.  0.\n",
      "  0.  0.  0.  0.  0.  0.  0.  0.  0.  0.  0.  0.  0.  0.  0.  0.  0.  0.\n",
      "  0.  0.  0.  0.  0.]\n"
     ]
    }
   ],
   "source": [
    "#(3) h = 20 | b = 25\n",
    "lam = 15\n",
    "c = 1\n",
    "h = 20\n",
    "b = 25\n",
    "inventory = 20\n",
    "v, policy = bellman(lam,c,h,b)\n",
    "print(\"h = 20 | b = 25 \\n\")\n",
    "print(\"a. Optimal value starting at time 0 with x=20 units in inventory:\\n\")\n",
    "print(v[inventory+30])\n",
    "print(\"\\n\")\n",
    "print(\"b. Optimal strategy: \\n\")\n",
    "print(policy)"
   ]
  },
  {
   "cell_type": "code",
   "execution_count": 14,
   "metadata": {},
   "outputs": [
    {
     "name": "stdout",
     "output_type": "stream",
     "text": [
      "(4) h = 5 | b = 2 \n",
      "\n",
      "a. Optimal value starting at time 0 with x=20 units in inventory:\n",
      "\n",
      "-324.654599626344\n",
      "\n",
      "\n",
      "b. Optimal strategy: \n",
      "\n",
      "[43. 42. 41. 40. 39. 38. 37. 36. 35. 34. 33. 32. 31. 30. 29. 28. 27. 26.\n",
      " 25. 24. 23. 22. 21. 20. 19. 18. 17. 16. 15. 14. 13. 12. 11. 10.  9.  8.\n",
      "  7.  6.  5.  4.  3.  2.  1.  0.  0.  0.  0.  0.  0.  0.  0.  0.  0.  0.\n",
      "  0.  0.  0.  0.  0.  0.  0.  0.  0.  0.  0.  0.  0.  0.  0.  0.  0.  0.\n",
      "  0.  0.  0.  0.  0.  0.  0.  0.  0.  0.  0.  0.  0.  0.  0.  0.  0.  0.\n",
      "  0.  0.  0.  0.  0.  0.  0.  0.  0.  0.  0.  0.  0.  0.  0.  0.  0.  0.\n",
      "  0.  0.  0.  0.  0.  0.  0.  0.  0.  0.  0.  0.  0.  0.  0.  0.  0.  0.\n",
      "  0.  0.  0.  0.  0.]\n"
     ]
    }
   ],
   "source": [
    "#(4) h = 5 | b = 2\n",
    "lam = 15\n",
    "c = 1\n",
    "h = 5\n",
    "b = 2\n",
    "inventory = 20\n",
    "v, policy = bellman(lam,c,h,b)\n",
    "print(\"(4) h = 5 | b = 2 \\n\")\n",
    "print(\"a. Optimal value starting at time 0 with x=20 units in inventory:\\n\")\n",
    "print(v[inventory+30])\n",
    "print(\"\\n\")\n",
    "print(\"b. Optimal strategy: \\n\")\n",
    "print(policy)"
   ]
  },
  {
   "cell_type": "code",
   "execution_count": 15,
   "metadata": {
    "scrolled": true
   },
   "outputs": [
    {
     "name": "stdout",
     "output_type": "stream",
     "text": [
      "(5) h = 7 | b = 10 \n",
      "\n",
      "a. Optimal value starting at time 0 with x=20 units in inventory:\n",
      "\n",
      "-514.5502181558186\n",
      "\n",
      "\n",
      "b. Optimal strategy: \n",
      "\n",
      "[46. 45. 44. 43. 42. 41. 40. 39. 38. 37. 36. 35. 34. 33. 32. 31. 30. 29.\n",
      " 28. 27. 26. 25. 24. 23. 22. 21. 20. 19. 18. 17. 16. 15. 14. 13. 12. 11.\n",
      " 10.  9.  8.  7.  6.  5.  4.  3.  2.  1.  0.  0.  0.  0.  0.  0.  0.  0.\n",
      "  0.  0.  0.  0.  0.  0.  0.  0.  0.  0.  0.  0.  0.  0.  0.  0.  0.  0.\n",
      "  0.  0.  0.  0.  0.  0.  0.  0.  0.  0.  0.  0.  0.  0.  0.  0.  0.  0.\n",
      "  0.  0.  0.  0.  0.  0.  0.  0.  0.  0.  0.  0.  0.  0.  0.  0.  0.  0.\n",
      "  0.  0.  0.  0.  0.  0.  0.  0.  0.  0.  0.  0.  0.  0.  0.  0.  0.  0.\n",
      "  0.  0.  0.  0.  0.]\n"
     ]
    }
   ],
   "source": [
    "#(5) h = 7 | b = 10\n",
    "lam = 15\n",
    "c = 1\n",
    "h = 7\n",
    "b = 10\n",
    "inventory = 20\n",
    "v, policy = bellman(lam,c,h,b)\n",
    "print(\"(5) h = 7 | b = 10 \\n\")\n",
    "print(\"a. Optimal value starting at time 0 with x=20 units in inventory:\\n\")\n",
    "print(v[inventory+30])\n",
    "print(\"\\n\")\n",
    "print(\"b. Optimal strategy: \\n\")\n",
    "print(policy)"
   ]
  },
  {
   "cell_type": "markdown",
   "metadata": {},
   "source": [
    "# Problem 3"
   ]
  },
  {
   "cell_type": "markdown",
   "metadata": {},
   "source": [
    "# 2) Q - learning algorithm"
   ]
  },
  {
   "cell_type": "code",
   "execution_count": 78,
   "metadata": {},
   "outputs": [],
   "source": [
    "def Qlearn(lamda,c,h,b):\n",
    "#--------------------------------------------\n",
    "    def cost(x,A):\n",
    "        if x >= 0:\n",
    "            val = c*A + h*x\n",
    "        else:\n",
    "            val = c*A - b*x\n",
    "        return -val\n",
    "#----------------------------------------------\n",
    "    #initialize\n",
    "    Q = np.zeros([131,131])\n",
    "    epsilon = 0.2\n",
    "    #Start with 20 in inventory\n",
    "    for j in range(500):\n",
    "        for i in range(-30,101):\n",
    "            t = 0\n",
    "            states = [i]\n",
    "            actions = [0]\n",
    "            update = 1\n",
    "            while update <= 10000:\n",
    "                current_state = states[t]\n",
    "                alpha = 1/(t+1)\n",
    "                if np.random.uniform(0, 1) < epsilon:\n",
    "                    action = np.random.randint(0,101 - current_state) # Explore action space with prob=epsilon\n",
    "                else:\n",
    "                    action = np.argmax(Q[current_state][:101 - current_state]) # use learned values\n",
    "                state_update = current_state + action - np.random.poisson(lamda)\n",
    "                if state_update < -30:\n",
    "                    next_state = -30\n",
    "                else:\n",
    "                    next_state = state_update\n",
    "                Q[current_state+30,action] += alpha * (cost(current_state,action) + 0.9*np.max(Q[next_state+30,:101 - next_state])\n",
    "                                                     - Q[current_state+30,action])\n",
    "                states.append(next_state)\n",
    "                t += 1\n",
    "                update += 1\n",
    "    #         print(t)\n",
    "        #stopping condition\n",
    "    #         if t > 120:\n",
    "    return Q"
   ]
  },
  {
   "cell_type": "code",
   "execution_count": 79,
   "metadata": {},
   "outputs": [
    {
     "data": {
      "text/plain": [
       "array([[ -632.08244102,  -607.12808414,  -630.12559075, ...,\n",
       "         -247.34745787,  -387.90216304, -1159.69563141],\n",
       "       [ -593.06368601,   -22.55476819,   -87.46980539, ...,\n",
       "        -1141.07998414, -1139.85088751,     0.        ],\n",
       "       [ -561.43779731,  -592.50169466,  -567.6230723 , ...,\n",
       "        -1119.17039844,     0.        ,     0.        ],\n",
       "       ...,\n",
       "       [ -594.25589951,  -596.26590069,  -655.11498851, ...,\n",
       "            0.        ,     0.        ,     0.        ],\n",
       "       [ -536.95571044,  -644.49911582,     0.        , ...,\n",
       "            0.        ,     0.        ,     0.        ],\n",
       "       [ -619.40372034,     0.        ,     0.        , ...,\n",
       "            0.        ,     0.        ,     0.        ]])"
      ]
     },
     "execution_count": 79,
     "metadata": {},
     "output_type": "execute_result"
    }
   ],
   "source": [
    "#(2) h = 2 | b = 20\n",
    "lam = 15\n",
    "c = 1\n",
    "h = 2\n",
    "b = 20\n",
    "inventory = 20\n",
    "Q = Qlearn(lam,c,h,b)\n",
    "Q"
   ]
  },
  {
   "cell_type": "markdown",
   "metadata": {},
   "source": [
    "## 3) provide visuals that capture the convergence of the Q‐learning algorithm\n",
    "\n",
    "We used second group of combination from part 2: (λ, c, h, b) = (15, 1, 2, 20), the result and graph is shown below. \n"
   ]
  },
  {
   "cell_type": "code",
   "execution_count": 59,
   "metadata": {
    "scrolled": true
   },
   "outputs": [
    {
     "data": {
      "text/plain": [
       "array([[-6.00356525e+02, -1.50945105e+01, -1.91650230e+01, ...,\n",
       "        -2.94506767e+01, -3.84506138e+02, -3.95188375e+01],\n",
       "       [-5.80318270e+02, -1.92821374e+00, -4.04534335e-01, ...,\n",
       "        -1.00639471e+00, -5.28324397e-01,  0.00000000e+00],\n",
       "       [-1.92843311e+01, -5.67891253e+02, -2.84111978e+00, ...,\n",
       "        -1.04474080e+03,  0.00000000e+00,  0.00000000e+00],\n",
       "       ...,\n",
       "       [-5.38403081e+02, -5.48606425e+02, -5.80784242e+02, ...,\n",
       "         0.00000000e+00,  0.00000000e+00,  0.00000000e+00],\n",
       "       [-5.93727031e+02, -5.94584124e+02,  0.00000000e+00, ...,\n",
       "         0.00000000e+00,  0.00000000e+00,  0.00000000e+00],\n",
       "       [-5.94513752e+02,  0.00000000e+00,  0.00000000e+00, ...,\n",
       "         0.00000000e+00,  0.00000000e+00,  0.00000000e+00]])"
      ]
     },
     "execution_count": 59,
     "metadata": {},
     "output_type": "execute_result"
    }
   ],
   "source": [
    "#(2) h = 2 | b = 20\n",
    "lam = 15\n",
    "c = 1\n",
    "h = 2\n",
    "b = 20\n",
    "inventory = 20\n",
    "Q = Qlearn(lam,c,h,b)\n",
    "Q"
   ]
  },
  {
   "cell_type": "code",
   "execution_count": 80,
   "metadata": {
    "scrolled": true
   },
   "outputs": [
    {
     "data": {
      "image/png": "[encoded data removed]",
      "text/plain": [
       "<Figure size 432x288 with 1 Axes>"
      ]
     },
     "metadata": {
      "needs_background": "light"
     },
     "output_type": "display_data"
    }
   ],
   "source": [
    "# order number = n\n",
    "# state = s\n",
    "n_list = []\n",
    "for i in range (131):\n",
    "    n = np.argmax(Q[i][:131 - i])\n",
    "    n_list.append(n) \n",
    "s = list(range(-30,101))\n",
    "fig = plt.figure()\n",
    "plt.plot(s, n_list)\n",
    "fig.suptitle('Q-learning convergency graph', fontsize=15)\n",
    "plt.xlabel('state', fontsize=12)\n",
    "plt.ylabel('order', fontsize=12)\n",
    "plt.show()"
   ]
  },
  {
   "cell_type": "code",
   "execution_count": 77,
   "metadata": {},
   "outputs": [
    {
     "name": "stdout",
     "output_type": "stream",
     "text": [
      "a. Optimal value starting at time 0 with x=20 units in inventory:\n",
      "\n",
      "-41.703915156977104\n",
      "\n",
      "\n",
      "b. Optimal strategy: \n",
      "\n",
      "[37  2 36 44 18 16  1 21  7 13 55  6 38 30 34 47 36 35 38 26 22 45 30 31\n",
      " 20 23 24 15 13 12 15  7  5  9  0  6 11  5  9  6  3  1  1  0  0  0  1  0\n",
      "  0  0  0  0  0  0  0  0  0  0  0  0  0  0  0  0  0  0  0  0  0  0  0  0\n",
      "  0  1  1  1  0  1  0  0  2  2  0  0  1  0  3  1  1  0  0  0  0  2  2  1\n",
      "  1  0  3  2  2  1  0  2  0  0  2  2  3  1  0  1  2  0  4  3  7 13 11  8\n",
      "  7  3  7  7  6  4  3  1  0  0  0]\n"
     ]
    }
   ],
   "source": [
    "print(\"a. Optimal value starting at time 0 with x=20 units in inventory:\\n\")\n",
    "print(np.max(Q[50][:101 - 50 + 30]))\n",
    "print(\"\\n\")\n",
    "print(\"b. Optimal strategy: \\n\")\n",
    "print(np.array(n_list))"
   ]
  },
  {
   "cell_type": "code",
   "execution_count": null,
   "metadata": {},
   "outputs": [],
   "source": []
  }
 ],
 "metadata": {
  "kernelspec": {
   "display_name": "Python 3",
   "language": "python",
   "name": "python3"
  },
  "language_info": {
   "codemirror_mode": {
    "name": "ipython",
    "version": 3
   },
   "file_extension": ".py",
   "mimetype": "text/x-python",
   "name": "python",
   "nbconvert_exporter": "python",
   "pygments_lexer": "ipython3",
   "version": "3.7.4"
  }
 },
 "nbformat": 4,
 "nbformat_minor": 4
}

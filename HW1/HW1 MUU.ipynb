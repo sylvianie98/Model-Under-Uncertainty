{
 "cells": [
  {
   "cell_type": "markdown",
   "metadata": {},
   "source": [
    "### Q3 Part a)"
   ]
  },
  {
   "cell_type": "code",
   "execution_count": 17,
   "metadata": {},
   "outputs": [],
   "source": [
    "coins = [1,5,10,25] \n",
    "\n",
    "def C(n,m):\n",
    "    \n",
    "    S = coins[0:m]\n",
    "    np = [[ 0 for x in range(n + 1)] for x in range(len(S)+ 1)]\n",
    "\n",
    "    #np[i][j] represent the numbers of combination that sum j can be made by only first i value of coins (i<=m)\n",
    "\n",
    "    for i in range(1,len(S) + 1):\n",
    "        for j in range(n + 1):\n",
    "            if j == 0:\n",
    "                np[i][0] = 1 #numbers of combination that 0 can be made is always equal to 1.\n",
    "            else: \n",
    "                if S[i - 1] <= j: \n",
    "                    np[i][j] = np[i - 1][j] + np[i][j - S[i - 1]]\n",
    "                else: \n",
    "                    np[i][j] = np[i - 1][j]    \n",
    "\n",
    "    return np[len(S)][n]\n"
   ]
  },
  {
   "cell_type": "markdown",
   "metadata": {},
   "source": [
    "### Q3 Part b)"
   ]
  },
  {
   "cell_type": "code",
   "execution_count": 19,
   "metadata": {},
   "outputs": [
    {
     "data": {
      "text/plain": [
       "1670"
      ]
     },
     "execution_count": 19,
     "metadata": {},
     "output_type": "execute_result"
    }
   ],
   "source": [
    "C(213,4)"
   ]
  },
  {
   "cell_type": "markdown",
   "metadata": {},
   "source": [
    "### Q3 Part c)"
   ]
  },
  {
   "cell_type": "code",
   "execution_count": 20,
   "metadata": {},
   "outputs": [
    {
     "data": {
      "text/plain": [
       "0.2898203592814371"
      ]
     },
     "execution_count": 20,
     "metadata": {},
     "output_type": "execute_result"
    }
   ],
   "source": [
    "fractions = C(213,3)/C(213,4)\n",
    "fractions"
   ]
  },
  {
   "cell_type": "markdown",
   "metadata": {},
   "source": [
    "### Q3 Part d)"
   ]
  },
  {
   "cell_type": "code",
   "execution_count": 21,
   "metadata": {},
   "outputs": [
    {
     "data": {
      "text/plain": [
       "[<matplotlib.lines.Line2D at 0x7f91f7e74a90>]"
      ]
     },
     "execution_count": 21,
     "metadata": {},
     "output_type": "execute_result"
    },
    {
     "data": {
      "image/png": "[encoded data removed]",
      "text/plain": [
       "<Figure size 432x288 with 1 Axes>"
      ]
     },
     "metadata": {
      "needs_background": "light"
     },
     "output_type": "display_data"
    }
   ],
   "source": [
    "import numpy as np\n",
    "import matplotlib.pyplot as plt\n",
    "\n",
    "amount = np.arange(0,400,10)\n",
    "ratio = []\n",
    "for i in amount:\n",
    "    ratio.append(C(i,3)/C(i,4))\n",
    "plt.plot(amount,ratio)\n",
    "    "
   ]
  }
 ],
 "metadata": {
  "kernelspec": {
   "display_name": "Python 3",
   "language": "python",
   "name": "python3"
  },
  "language_info": {
   "codemirror_mode": {
    "name": "ipython",
    "version": 3
   },
   "file_extension": ".py",
   "mimetype": "text/x-python",
   "name": "python",
   "nbconvert_exporter": "python",
   "pygments_lexer": "ipython3",
   "version": "3.7.4"
  }
 },
 "nbformat": 4,
 "nbformat_minor": 2
}
